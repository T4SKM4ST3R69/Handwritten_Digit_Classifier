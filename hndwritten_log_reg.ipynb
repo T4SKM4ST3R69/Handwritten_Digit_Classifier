{
  "cells": [
    {
      "cell_type": "code",
      "execution_count": null,
      "metadata": {
        "colab": {
          "background_save": true,
          "base_uri": "https://localhost:8080/"
        },
        "id": "iQugHfiGgIxm",
        "outputId": "000ad0db-464e-4c10-8f44-7cc23bcec5fc"
      },
      "outputs": [
        {
          "name": "stdout",
          "output_type": "stream",
          "text": [
            "Loading MNIST dataset...\n",
            "Scaling features...\n",
            "Training logistic regression model...\n"
          ]
        },
        {
          "name": "stderr",
          "output_type": "stream",
          "text": [
            "/usr/local/lib/python3.11/dist-packages/sklearn/linear_model/_logistic.py:1247: FutureWarning: 'multi_class' was deprecated in version 1.5 and will be removed in 1.7. From then on, it will always use 'multinomial'. Leave it to its default value to avoid this warning.\n",
            "  warnings.warn(\n"
          ]
        }
      ],
      "source": [
        "from sklearn.datasets import fetch_openml\n",
        "from sklearn.linear_model import LogisticRegression\n",
        "from sklearn.model_selection import train_test_split\n",
        "from sklearn.preprocessing import StandardScaler\n",
        "from sklearn.metrics import accuracy_score, classification_report\n",
        "import joblib\n",
        "import numpy as np\n",
        "\n",
        "# Load MNIST dataset\n",
        "print(\"Loading MNIST dataset...\")\n",
        "X, y = fetch_openml('mnist_784', version=1, return_X_y=True, as_frame=False)\n",
        "\n",
        "# Convert target to integers\n",
        "y = y.astype('int')\n",
        "\n",
        "# Normalize the training data to 0-1 range\n",
        "X = X / 255.0\n",
        "\n",
        "# Splitting the data\n",
        "X_train, X_test, y_train, y_test = train_test_split(\n",
        "    X, y, test_size=10000, random_state=42, stratify=y\n",
        ")\n",
        "\n",
        "# Scaling\n",
        "print(\"Scaling features...\")\n",
        "scaler = StandardScaler()\n",
        "X_train_scaled = scaler.fit_transform(X_train)\n",
        "X_test_scaled = scaler.transform(X_test)\n",
        "\n",
        "# Create and train the logistic regression model\n",
        "print(\"Training logistic regression model...\")\n",
        "clf = LogisticRegression(\n",
        "    max_iter=2000,\n",
        "    solver='saga',\n",
        "    penalty='l2',\n",
        "    C=0.1,\n",
        "    multi_class='multinomial',\n",
        "    random_state=42,\n",
        "    verbose=1\n",
        ")\n",
        "\n",
        "# Train the model\n",
        "clf.fit(X_train_scaled, y_train)\n",
        "\n",
        "# Evaluate the model\n",
        "print(\"Evaluating model...\")\n",
        "y_pred = clf.predict(X_test_scaled)\n",
        "accuracy = accuracy_score(y_test, y_pred)\n",
        "print(f\"Test Accuracy: {accuracy:.4f}\")\n",
        "\n",
        "# Save the trained model and scaler\n",
        "model_filename = 'logistic_regression_mnist_model.joblib'\n",
        "scaler_filename = 'mnist_scaler.joblib'\n",
        "\n",
        "print(f\"Saving model to {model_filename}...\")\n",
        "joblib.dump(clf, model_filename)\n",
        "joblib.dump(scaler, scaler_filename)\n",
        "\n",
        "print(\"Model and scaler saved successfully!\")\n"
      ]
    }
  ],
  "metadata": {
    "colab": {
      "provenance": []
    },
    "kernelspec": {
      "display_name": "Python 3",
      "name": "python3"
    },
    "language_info": {
      "name": "python"
    }
  },
  "nbformat": 4,
  "nbformat_minor": 0
}